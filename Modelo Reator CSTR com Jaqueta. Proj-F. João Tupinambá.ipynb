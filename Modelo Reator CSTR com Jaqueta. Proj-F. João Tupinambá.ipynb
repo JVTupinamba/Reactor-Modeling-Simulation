{
 "cells": [
  {
   "cell_type": "code",
   "execution_count": 1,
   "metadata": {},
   "outputs": [],
   "source": [
    "import dasslc, time\n",
    "import numpy as np\n",
    "import matplotlib.pyplot as plt\n",
    "import csv\n",
    "#import doepy as dp\n",
    "from doepy import build\n",
    "#from pyDOE2 import *\n",
    "import pandas as pd\n",
    "import openpyxl as xl\n"
   ]
  },
  {
   "cell_type": "code",
   "execution_count": 2,
   "metadata": {},
   "outputs": [],
   "source": [
    "def modelo(t,y,yp,par): \n",
    "    res = np.empty(3)\n",
    "         \n",
    "    Ff= par[0] \n",
    "    V= par[1]                                               \n",
    "    Te= par[2]\n",
    "    Tej= par[3]\n",
    "    k0= par[4]\n",
    "    Ca0= par[5]\n",
    "    RhoCp= par[6]\n",
    "    Hrec= par[7]\n",
    "    U= par[8]\n",
    "    A= par[9]\n",
    "    Ea= par[10]\n",
    "    R= par[11]\n",
    "    Vj= par[12]\n",
    "    RhoCpj= par[13]\n",
    "    Ffj= par[14]\n",
    "     \n",
    "    Ca = y[0]; dCa = yp[0]      \n",
    "    T = y[1]; dT = yp[1] \n",
    "    Tj = y[2]; dTj = yp[2]\n",
    "    \n",
    "    res[0] = (Ca0 - Ca)*(Ff/V) - k0*Ca*np.exp(-Ea/(R*T)) - dCa\n",
    "    res[1] = (Te - T)*(Ff/V) - (k0*Ca/RhoCp)*np.exp(-Ea/(R*T))*Hrec + (U*A/(V*RhoCpj))*(Tj - T)  - dT  \n",
    "    res[2] = (Tej - Tj)*(Ffj/Vj) + (U*A/(Vj*RhoCpj))*(T-Tj) - dTj\n",
    "    ires = 0\n",
    "    return res, ires"
   ]
  },
  {
   "cell_type": "code",
   "execution_count": 3,
   "metadata": {},
   "outputs": [],
   "source": [
    "t0 = np.array([1])\n",
    "\n",
    "y0 = np.array([2,273.15 + 38,273.15 -18.15]) # Voltar e gerar dados com variação do PVI\n",
    "\n",
    "Ea = 75500                #KJ/Kmol\n",
    "k0 = 1.696e12             #1/h\n",
    "Hrec = -89700             #KJ/Kmol                                Matriz Sensibilidade\n",
    "A = 40                    #m^2\n",
    "U = 1100                  #KJ/(K*mol*m^2)\n",
    "RhoCp = 3570              #KJ/K*m^3\n",
    "R = 8.3144621             #KJ/Kmol*K\n",
    "V = 14                    #m^3\n",
    "Ff = (V / 0.25)           #m^3/h          Fluxo do reator         Matriz Sensibilidade\n",
    "Ca0 = 2                   #Kmol/m^3\n",
    "Te = (273.15 + 16)        #K  Detalhe: Temperatura operacional    Matriz Sensibilidade\n",
    "Vj = 0.25*V               #m^3\n",
    "Tej = (273.15 - 17)       #K                                      Matriz Sensibilidade\n",
    "RhoCpj = 3700             #KJ/K*m^3\n",
    "T0 = (273.15 + 38)        #K\n",
    "Ffj = 2.032484            #m^3/h                                  Matriz Sensibilidade\n",
    "Tj0 = (273.15 - 18.15)    #K\n",
    "# fluxo entrada(e) = fluxo saída(f)\n",
    "yp0 = np.array([0,0,0])    # Steady State, para alguns critérios será necessário mudança\n",
    "par = np.array([Ff,V,Te,Tej,k0,Ca0,RhoCp,Hrec,U,A,Ea,R,Vj,RhoCpj,Ffj])\n",
    "atol = 1e-10\n",
    "rtol = 1e-23 "
   ]
  },
  {
   "cell_type": "code",
   "execution_count": 4,
   "metadata": {},
   "outputs": [
    {
     "data": {
      "text/plain": [
       "<matplotlib.legend.Legend at 0x236d2e9c340>"
      ]
     },
     "execution_count": 4,
     "metadata": {},
     "output_type": "execute_result"
    },
    {
     "data": {
      "image/png": "[encoded data removed]",
      "text/plain": [
       "<Figure size 432x288 with 1 Axes>"
      ]
     },
     "metadata": {
      "needs_background": "light"
     },
     "output_type": "display_data"
    }
   ],
   "source": [
    "t, y, yp = dasslc.solve(modelo,t0,y0,yp0,par,rtol,atol) \n",
    "\n",
    "# Plot results\n",
    "plt.figure()\n",
    "plt.plot(t,y)\n",
    "x1,x2,y1,y2 = plt.axis()\n",
    "\n",
    "plt.axis((0,x2,250,600))\n",
    "plt.ylabel('Temperatura(K) ou Kmol/m^3', color = 'white')\n",
    "plt.xlabel('tempo(h)', color = 'white')\n",
    "plt.title('Balanço Reator CSTR com Jaqueta', color = 'white')\n",
    "plt.legend([\"[A]\",\"T Reator\",\"T Jaqueta\"])"
   ]
  },
  {
   "cell_type": "code",
   "execution_count": 5,
   "metadata": {},
   "outputs": [
    {
     "data": {
      "text/plain": [
       "array([[  2.        , 311.15      , 255.        ],\n",
       "       [  1.99328423, 309.98837966, 256.87565563],\n",
       "       [  1.9875363 , 308.87995799, 258.63925759],\n",
       "       [  1.98261918, 307.82374871, 260.2969934 ],\n",
       "       [  1.97841694, 306.81847208, 261.85476847],\n",
       "       [  1.97483121, 305.86263295, 263.3182087 ],\n",
       "       [  1.9717783 , 304.95458363, 264.69266536],\n",
       "       [  1.96918682, 304.09257416, 265.98322165],\n",
       "       [  1.96699571, 303.27479234, 267.19470053],\n",
       "       [  1.96515257, 302.4993954 , 268.33167342],\n",
       "       [  1.96361232, 301.76453472, 269.39846955],\n",
       "       [  1.96233607, 301.06837519, 270.3991856 ],\n",
       "       [  1.96129019, 300.40911001, 271.3376956 ],\n",
       "       [  1.96044549, 299.78497192, 272.21766086],\n",
       "       [  1.95977661, 299.19424157, 273.04253979],\n",
       "       [  1.95926144, 298.63525351, 273.81559766],\n",
       "       [  1.95888067, 298.10640041, 274.53991607],\n",
       "       [  1.95861739, 297.60613572, 275.21840218],\n",
       "       [  1.95845679, 297.13297523, 275.85379768],\n",
       "       [  1.95838582, 296.68549768, 276.44868741],\n",
       "       [  1.95839303, 296.26234461, 277.00550762],\n",
       "       [  1.9584683 , 295.86221968, 277.526554  ],\n",
       "       [  1.95860271, 295.48388759, 278.01398919],\n",
       "       [  1.95878838, 295.12617257, 278.46985016],\n",
       "       [  1.95901832, 294.78795673, 278.89605503],\n",
       "       [  1.95928634, 294.46817818, 279.29440974],\n",
       "       [  1.95958697, 294.16582904, 279.66661429],\n",
       "       [  1.95991534, 293.87995335, 280.0142687 ],\n",
       "       [  1.96026712, 293.60964503, 280.33887866],\n",
       "       [  1.9606385 , 293.35404568, 280.64186088],\n",
       "       [  1.96102606, 293.11234252, 280.92454818],\n",
       "       [  1.96142678, 292.88376629, 281.18819427],\n",
       "       [  1.96183797, 292.66758921, 281.4339783 ],\n",
       "       [  1.96225726, 292.46312296, 281.6630092 ],\n",
       "       [  1.96268252, 292.26971677, 281.87632968],\n",
       "       [  1.96311188, 292.08675553, 282.07492009],\n",
       "       [  1.96354369, 291.91365799, 282.25970208],\n",
       "       [  1.96397647, 291.74987497, 282.43154196],\n",
       "       [  1.96440893, 291.59488778, 282.59125399],\n",
       "       [  1.96483993, 291.44820653, 282.73960338],\n",
       "       [  1.96526846, 291.30936865, 282.87730919],\n",
       "       [  1.96569365, 291.1779374 , 283.00504706],\n",
       "       [  1.96611472, 291.05350049, 283.12345172],\n",
       "       [  1.96653101, 290.93566878, 283.23311943],\n",
       "       [  1.96694194, 290.82407496, 283.33461024],\n",
       "       [  1.96734701, 290.71837239, 283.42845015],\n",
       "       [  1.9677458 , 290.61823396, 283.51513311],\n",
       "       [  1.96813794, 290.523351  , 283.59512292],\n",
       "       [  1.96852312, 290.43343224, 283.66885504],\n",
       "       [  1.96890111, 290.34820288, 283.73673824],\n",
       "       [  1.96927169, 290.26740362, 283.79915622],\n",
       "       [  1.96963471, 290.19078985, 283.8564691 ],\n",
       "       [  1.96999005, 290.11813076, 283.90901481],\n",
       "       [  1.9703376 , 290.04920859, 283.95711045],\n",
       "       [  1.97067731, 289.98381793, 284.00105348],\n",
       "       [  1.97100916, 289.92176494, 284.04112297],\n",
       "       [  1.97133312, 289.86286679, 284.07758064],\n",
       "       [  1.97164922, 289.80695094, 284.11067194],\n",
       "       [  1.97195748, 289.75385463, 284.140627  ],\n",
       "       [  1.97225796, 289.7034243 , 284.16766158],\n",
       "       [  1.97255071, 289.65551503, 284.19197791],\n",
       "       [  1.97283581, 289.60999011, 284.21376555],\n",
       "       [  1.97311336, 289.56672053, 284.2332021 ],\n",
       "       [  1.97338344, 289.52558455, 284.25045394],\n",
       "       [  1.97364616, 289.48646729, 284.26567695],\n",
       "       [  1.97390164, 289.44926033, 284.27901709],\n",
       "       [  1.97415   , 289.41386134, 284.29061104],\n",
       "       [  1.97439136, 289.38017375, 284.30058675],\n",
       "       [  1.97462585, 289.34810641, 284.30906397],\n",
       "       [  1.97485361, 289.31757326, 284.31615476],\n",
       "       [  1.97507477, 289.28849306, 284.32196395],\n",
       "       [  1.97528946, 289.26078913, 284.3265896 ],\n",
       "       [  1.97549784, 289.23438905, 284.33012336],\n",
       "       [  1.97570003, 289.20922445, 284.33265095],\n",
       "       [  1.97589619, 289.18523075, 284.33425246],\n",
       "       [  1.97608645, 289.16234698, 284.33500271],\n",
       "       [  1.97627096, 289.14051553, 284.33497158],\n",
       "       [  1.97644986, 289.11968199, 284.33422433],\n",
       "       [  1.97662328, 289.09979497, 284.33282184],\n",
       "       [  1.97679137, 289.0808059 , 284.33082094],\n",
       "       [  1.97695427, 289.06266889, 284.32827462],\n",
       "       [  1.97711212, 289.04534057, 284.32523228],\n",
       "       [  1.97726504, 289.02877995, 284.32173998],\n",
       "       [  1.97741317, 289.01294829, 284.31784059],\n",
       "       [  1.97755665, 288.99780896, 284.31357404],\n",
       "       [  1.9776956 , 288.98332732, 284.3089775 ],\n",
       "       [  1.97783014, 288.96947063, 284.30408553],\n",
       "       [  1.97796042, 288.95620791, 284.29893026],\n",
       "       [  1.97808654, 288.94350985, 284.29354154],\n",
       "       [  1.97820863, 288.93134874, 284.28794708],\n",
       "       [  1.9783268 , 288.91969836, 284.28217261],\n",
       "       [  1.97844118, 288.90853387, 284.27624197],\n",
       "       [  1.97855186, 288.89783178, 284.27017725],\n",
       "       [  1.97865897, 288.88756987, 284.26399892],\n",
       "       [  1.97876261, 288.87772706, 284.2577259 ],\n",
       "       [  1.97886289, 288.86828341, 284.25137567],\n",
       "       [  1.9789599 , 288.85922005, 284.24496438],\n",
       "       [  1.97905375, 288.85051906, 284.23850692],\n",
       "       [  1.97914453, 288.84216351, 284.23201701],\n",
       "       [  1.97923235, 288.83413732, 284.22550728]])"
      ]
     },
     "execution_count": 5,
     "metadata": {},
     "output_type": "execute_result"
    }
   ],
   "source": [
    "y"
   ]
  },
  {
   "cell_type": "code",
   "execution_count": 6,
   "metadata": {
    "scrolled": true
   },
   "outputs": [
    {
     "data": {
      "image/png": "[encoded data removed]",
      "text/plain": [
       "<Figure size 432x288 with 1 Axes>"
      ]
     },
     "metadata": {
      "needs_background": "light"
     },
     "output_type": "display_data"
    }
   ],
   "source": [
    "#Para mudança da temperatura do reator com Temp da jaqueta cte\n",
    "T = np.array(range(100,1000))\n",
    "Tj = Tej + 27 #dessa forma estamos fixando Tj em 10°C\n",
    "Ca = (Ff*Ca0)/(Ff+V*k0*np.exp(-Ea/(R*T))) # Integração do balanço de massa\n",
    "\n",
    "Qr = -(Te - T)*(Ff/V) - (U*A/(V*RhoCpj))*(Tj - T)\n",
    "Qm =  - (k0*(Ca)/RhoCp)*np.exp(-Ea/(R*T))*Hrec\n",
    "plt.plot(T,Qr)\n",
    "plt.plot(T,Qm)\n",
    "plt.legend(['Q-removido','Q-gerado'])\n",
    "plt.ylabel('Calor(KJ)', color = 'white')\n",
    "plt.xlabel('Temperatura(K)', color = 'white')\n",
    "plt.axis((260,450,-10,700))\n",
    "plt.show()"
   ]
  },
  {
   "cell_type": "code",
   "execution_count": 10,
   "metadata": {},
   "outputs": [
    {
     "data": {
      "image/png": "[encoded data removed]",
      "text/plain": [
       "<Figure size 432x288 with 1 Axes>"
      ]
     },
     "metadata": {
      "needs_background": "light"
     },
     "output_type": "display_data"
    }
   ],
   "source": [
    "# DIAGRAMA DE SEMENOV PARA O REATOR\n",
    "T = np.array(y.T[1])\n",
    "Tj = np.array(y.T[2]) \n",
    "Ca = np.array(y.T[0])\n",
    "\n",
    "Qr = -(Te - T)*(Ff/V) - (U*A/(V*RhoCpj))*(Tj - T)\n",
    "Qm =  - (k0*(Ca)/RhoCp)*np.exp(-Ea/(R*T))*Hrec\n",
    "plt.plot(T,Qr)\n",
    "plt.plot(T,Qm)\n",
    "plt.legend(['Q-removido','Q-gerado'])\n",
    "plt.ylabel('Calor(KJ)', color = 'white')\n",
    "plt.xlabel('Temperatura(K)', color = 'white')\n",
    "plt.axis((300,500,-10,900))\n",
    "plt.show()"
   ]
  },
  {
   "cell_type": "code",
   "execution_count": 8,
   "metadata": {},
   "outputs": [],
   "source": [
    "#para Sensibilidade de 5%\n",
    "par = np.array([Ff*1.05,V,Te,Tej,k0,Ca0,RhoCp,Hrec,U,A,Ea,R,Vj,RhoCpj,Ffj])\n",
    "t, y5Fr, yp = dasslc.solve(modelo,t0,y0,yp0,par,rtol,atol) "
   ]
  },
  {
   "cell_type": "code",
   "execution_count": 9,
   "metadata": {},
   "outputs": [],
   "source": [
    "#para Sensibilidade de 5%\n",
    "par = np.array([Ff,V,Te*1.05,Tej,k0,Ca0,RhoCp,Hrec,U,A,Ea,R,Vj,RhoCpj,Ffj])\n",
    "t, y5Tr, yp = dasslc.solve(modelo,t0,y0,yp0,par,rtol,atol) "
   ]
  },
  {
   "cell_type": "code",
   "execution_count": 10,
   "metadata": {},
   "outputs": [],
   "source": [
    "#para Sensibilidade de 5%\n",
    "par = np.array([Ff,V,Te,Tej*1.05,k0,Ca0,RhoCp,Hrec,U,A,Ea,R,Vj,RhoCpj,Ffj])\n",
    "t, y5Tj, yp = dasslc.solve(modelo,t0,y0,yp0,par,rtol,atol) "
   ]
  },
  {
   "cell_type": "code",
   "execution_count": 11,
   "metadata": {},
   "outputs": [],
   "source": [
    "#para Sensibilidade de 5%\n",
    "par = np.array([Ff,V,Te,Tej,k0,Ca0,RhoCp,Hrec*1.05,U,A,Ea,R,Vj,RhoCpj,Ffj])\n",
    "t, y5Hrec, yp = dasslc.solve(modelo,t0,y0,yp0,par,rtol,atol) "
   ]
  },
  {
   "cell_type": "code",
   "execution_count": 12,
   "metadata": {},
   "outputs": [],
   "source": [
    "#para Sensibilidade de 5%\n",
    "par = np.array([Ff,V,Te,Tej,k0,Ca0,RhoCp,Hrec,U,A,Ea,R,Vj,RhoCpj,Ffj*1.05])\n",
    "t, y5Fj, yp = dasslc.solve(modelo,t0,y0,yp0,par,rtol,atol) "
   ]
  },
  {
   "cell_type": "code",
   "execution_count": 13,
   "metadata": {},
   "outputs": [
    {
     "data": {
      "text/plain": [
       "([0.0007759608463205245,\n",
       "  -0.002157709016874198,\n",
       "  -1.4307757387905638e-05,\n",
       "  3.591960269824008e-08,\n",
       "  6.880800194417655e-05],\n",
       " [-0.10949875148457164,\n",
       "  0.6951101850740826,\n",
       "  0.009896419839392882,\n",
       "  -1.0995393765753726e-05,\n",
       "  -0.06481127749062252],\n",
       " [-0.06024004170088557,\n",
       "  0.28130906427661806,\n",
       "  0.10342104779332989,\n",
       "  -6.09353198359923e-06,\n",
       "  -0.8872873312889462])"
      ]
     },
     "execution_count": 13,
     "metadata": {},
     "output_type": "execute_result"
    }
   ],
   "source": [
    "S5=      ([(y5Fr[29][0]-y[29][0])/(Ff*1.05-Ff) , (y5Tr[29][0]-y[29][0])/(0.05*Te),\n",
    "         (y5Tj[29][0]-y[29][0])/(0.05*Tej)   , (y5Hrec[29][0]-y[29][0])/(0.05*Hrec),\n",
    "         (y5Fj[29][0]-y[29][0])/(0.05*Ffj)]  ,      #linha 1; dC/dFr dC/dTr dC/dTj dC/dHrec dC/dFj\n",
    "        \n",
    "        [(y5Fr[29][1]-y[29][1])/(Ff*0.05) , (y5Tr[29][1]-y[29][1])/(0.05*Te),\n",
    "         (y5Tj[29][1]-y[29][1])/(0.05*Tej)   , (y5Hrec[29][1]-y[29][1])/(0.05*Hrec),\n",
    "         (y5Fj[29][1]-y[29][1])/(0.05*Ffj)]  ,      #Linha 2; dTr/dFr dTr/dTr dTr/dTj dTr/dHrec dTr/dFj\n",
    "        \n",
    "        [(y5Fr[29][2]-y[29][2])/(Ff*0.05) , (y5Tr[29][2]-y[29][2])/(0.05*Te),\n",
    "         (y5Tj[29][2]-y[29][2])/(0.05*Tej)   , (y5Hrec[29][2]-y[29][2])/(0.05*Hrec),\n",
    "         (y5Fj[29][2]-y[29][2])/(0.05*Ffj)])       #Linha 3; dTj/dFr dTj/dTr dTj/dTj dTj/dHrec dTj/dFj\n",
    "S5"
   ]
  },
  {
   "cell_type": "code",
   "execution_count": 14,
   "metadata": {},
   "outputs": [],
   "source": [
    "#para Sensibilidade de 10%\n",
    "par = np.array([Ff*1.1,V,Te,Tej,k0,Ca0,RhoCp,Hrec,U,A,Ea,R,Vj,RhoCpj,Ffj])\n",
    "t, y10Fr, yp = dasslc.solve(modelo,t0,y0,yp0,par,rtol,atol) "
   ]
  },
  {
   "cell_type": "code",
   "execution_count": 15,
   "metadata": {},
   "outputs": [],
   "source": [
    "#para Sensibilidade de 10%\n",
    "par = np.array([Ff,V,Te*1.1,Tej,k0,Ca0,RhoCp,Hrec,U,A,Ea,R,Vj,RhoCpj,Ffj])\n",
    "t, y10Tr, yp = dasslc.solve(modelo,t0,y0,yp0,par,rtol,atol) "
   ]
  },
  {
   "cell_type": "code",
   "execution_count": 16,
   "metadata": {},
   "outputs": [],
   "source": [
    "#para Sensibilidade de 10%\n",
    "par = np.array([Ff,V,Te,Tej*1.1,k0,Ca0,RhoCp,Hrec,U,A,Ea,R,Vj,RhoCpj,Ffj])\n",
    "t, y10Tj, yp = dasslc.solve(modelo,t0,y0,yp0,par,rtol,atol) "
   ]
  },
  {
   "cell_type": "code",
   "execution_count": 17,
   "metadata": {},
   "outputs": [],
   "source": [
    "#para Sensibilidade de 10%\n",
    "par = np.array([Ff,V,Te,Tej,k0,Ca0,RhoCp,Hrec*1.1,U,A,Ea,R,Vj,RhoCpj,Ffj])\n",
    "t, y10Hrec, yp = dasslc.solve(modelo,t0,y0,yp0,par,rtol,atol) "
   ]
  },
  {
   "cell_type": "code",
   "execution_count": 18,
   "metadata": {},
   "outputs": [],
   "source": [
    "#para Sensibilidade de 10%\n",
    "par = np.array([Ff,V,Te,Tej,k0,Ca0,RhoCp,Hrec,U,A,Ea,R,Vj,RhoCpj,Ffj*1.1])\n",
    "t, y10Fj, yp = dasslc.solve(modelo,t0,y0,yp0,par,rtol,atol) "
   ]
  },
  {
   "cell_type": "code",
   "execution_count": 19,
   "metadata": {},
   "outputs": [
    {
     "data": {
      "text/plain": [
       "([0.0007488202672268578,\n",
       "  -0.0033496757689376665,\n",
       "  -1.4365090439019465e-05,\n",
       "  3.611219884933234e-08,\n",
       "  6.868688506928823e-05],\n",
       " [-0.10607679441560791,\n",
       "  0.7236143353989325,\n",
       "  0.009897803336695982,\n",
       "  -1.1042142652495578e-05,\n",
       "  -0.06468035063763133],\n",
       " [-0.059018162583726046,\n",
       "  0.28859411463918694,\n",
       "  0.10342132110848447,\n",
       "  -6.1148770993219815e-06,\n",
       "  -0.8849813935567843])"
      ]
     },
     "execution_count": 19,
     "metadata": {},
     "output_type": "execute_result"
    }
   ],
   "source": [
    "S10=     ([(y10Fr[29][0]-y[29][0])/(Ff*1.1-Ff) , (y10Tr[29][0]-y[29][0])/(0.1*Te),\n",
    "         (y10Tj[29][0]-y[29][0])/(0.1*Tej)   ,   (y10Hrec[29][0]-y[29][0])/(0.1*Hrec),\n",
    "         (y10Fj[29][0]-y[29][0])/(0.1*Ffj)]  ,   \n",
    "        \n",
    "        [(y10Fr[29][1]-y[29][1])/(Ff*0.1) ,      (y10Tr[29][1]-y[29][1])/(0.1*Te),\n",
    "         (y10Tj[29][1]-y[29][1])/(0.1*Tej)   ,   (y10Hrec[29][1]-y[29][1])/(0.1*Hrec),\n",
    "         (y10Fj[29][1]-y[29][1])/(0.1*Ffj)]  ,\n",
    "        \n",
    "        [(y10Fr[29][2]-y[29][2])/(Ff*0.1) ,      (y10Tr[29][2]-y[29][2])/(0.1*Te),\n",
    "         (y10Tj[29][2]-y[29][2])/(0.1*Tej)   ,   (y10Hrec[29][2]-y[29][2])/(0.1*Hrec),\n",
    "         (y10Fj[29][2]-y[29][2])/(0.1*Ffj)])\n",
    "S10"
   ]
  },
  {
   "cell_type": "code",
   "execution_count": 20,
   "metadata": {},
   "outputs": [
    {
     "name": "stdout",
     "output_type": "stream",
     "text": [
      "0.02090167999267578\n"
     ]
    }
   ],
   "source": [
    "# CRITÉRIO DE SEMENOV\n",
    "inicio = time.time()\n",
    "par = np.array([Ff,V,Te,Tej,k0,Ca0,RhoCp,Hrec,U,A,Ea,R,Vj,RhoCpj,Ffj])\n",
    "t, y, yp = dasslc.solve(modelo,t0,y0,yp0,par,rtol,atol)  \n",
    "T = np.array(y.T[1])\n",
    "Tj = np.array(y.T[2]) \n",
    "Ca = np.array(y.T[0])\n",
    "\n",
    "Qr = -(Te - T)*(Ff/V) - (U*A/(V*RhoCpj))*(Tj - T)\n",
    "Qm =  - (k0*(Ca)/RhoCp)*np.exp(-Ea/(R*T))*Hrec\n",
    "    \n",
    "for u in range(0,100):\n",
    "    if Qm[u] > Qr[u] and T[u] > (273+300):\n",
    "        Semenov = 1\n",
    "    else:\n",
    "        Semenov = 0\n",
    "        \n",
    "# PARA PRINTAR OS RESULTADOS EM CSV        \n",
    "with open(r'c:\\Users\\jvabd\\Desktop\\Projeto final\\Banco de dados\\Dado.csv', 'w', newline='') as outfile:\n",
    "    w = csv.writer(outfile, delimiter=';')\n",
    "    w.writerow(['Tempo','Conc','T_Reator','T_Jaqueta','Ff','V','Te','Tej','k0','Ca0','RhoCp'\n",
    "                ,'Hrec','U','A','Ea','R','Vj','RhoCpj','Ffj','Semenov'])\n",
    "         \n",
    "    for i in range(0,100): \n",
    "        w.writerow([t[i]*60,y[i][0],y[i][1],y[i][2],Ff,V,Te,Tej,k0,Ca0,RhoCp\n",
    "                    ,Hrec,U,A,Ea,R,Vj,RhoCpj,Ffj,Semenov])\n",
    "fim = time.time()\n",
    "print(fim - inicio)"
   ]
  },
  {
   "cell_type": "code",
   "execution_count": 4,
   "metadata": {},
   "outputs": [],
   "source": [
    "#Full factorial design:\n",
    "FAC_Ff = []\n",
    "FAC_V = [V]             #\n",
    "FAC_Te = []\n",
    "FAC_Tej = []\n",
    "FAC_k0 = [k0]              # \n",
    "FAC_Ca0 = []\n",
    "FAC_RhoCp = [RhoCp]        # \n",
    "FAC_Hrec = []            \n",
    "FAC_U = [U]            #\n",
    "FAC_A = [A]            #\n",
    "FAC_Ea = [Ea]           #\n",
    "FAC_R = [R]             #\n",
    "FAC_Vj = [Vj]           #\n",
    "FAC_RhoCpj = [RhoCpj]   #\n",
    "FAC_Ffj = []\n",
    "\n",
    "for v in range(0,6):         # Porcentagem 0.75 // 1.00 // 1.41 // 1.914 // 2.491 // 3.13     \n",
    "    FAC_Ff.append(Ff*(0.75 + 0.25*v**1.4))\n",
    "    \n",
    "    FAC_Te.append(Te*(1 + 0.035*v))     # Celcius:  16.15 // 26.12 // 36.24 // 46.51 // 56.48 // 66.6\n",
    "    FAC_Tej.append(Tej*(1 + 0.04*v))  # Celcius: -18.85 // -6.6 // 3.64 // 13.89 // 24.13 // 34.4\n",
    "    \n",
    "    FAC_Ca0.append(Ca0*(0.75 + 0.25*v**1.4))\n",
    "    FAC_Hrec.append(Hrec*(0.75 + 0.25*v**1.4))\n",
    "    FAC_Ffj.append(Ffj*(0.75 + 0.25*v**1.4))    \n",
    "\n",
    "\n",
    "\n",
    "FullFac = build.full_fact(\n",
    "{ 'Ff':FAC_Ff\n",
    " ,'V':FAC_V\n",
    " ,'Te':FAC_Te\n",
    " ,'Tej':FAC_Tej\n",
    " ,'k0':FAC_k0\n",
    " ,'Ca0':FAC_Ca0\n",
    " ,'RhoCp':FAC_RhoCp\n",
    " ,'Hrec':FAC_Hrec\n",
    " ,'U':FAC_U\n",
    " ,'A':FAC_A\n",
    " ,'Ea':FAC_Ea\n",
    " ,'R':FAC_R\n",
    " ,'Vj':FAC_Vj\n",
    " ,'RhoCpj':FAC_RhoCpj\n",
    " ,'Ffj':FAC_Ffj }\n",
    ")\n",
    "FullFac.to_csv (r'c:\\Users\\jvabd\\Desktop\\Projeto final\\Banco de dados\\InputReduzidoFinal.csv', index = False,sep=';', header=True)\n"
   ]
  },
  {
   "cell_type": "code",
   "execution_count": 10,
   "metadata": {},
   "outputs": [],
   "source": [
    "\n",
    "FullFact=fullfact([10, 1, 10,10,10,10,1,10, 1, 1, 1, 1 ,1,1,10])\n",
    "with open(r'c:\\Users\\jvabd\\Desktop\\Projeto final\\Banco de dados\\Input_FullFact.csv', 'w', newline='') as outfile:\n",
    "    w = csv.writer(outfile, delimiter=';')\n",
    "    w.writerow(['Ff','V','Te','Tej','k0','Ca0','RhoCp'\n",
    "                ,'Hrec','U','A','Ea','R','Vj','RhoCpj','Ffj'])\n",
    "    w.writerows(FullFact)"
   ]
  },
  {
   "cell_type": "code",
   "execution_count": 36,
   "metadata": {},
   "outputs": [
    {
     "data": {
      "text/plain": [
       "<bound method DataFrame.info of                Ff     V          Te         Tej            k0   Ca0   RhoCp  \\\n",
       "0      165.199997  14.0  852.992493  755.642517  1.696000e+12  5.90  3570.0   \n",
       "1      165.759995  14.0  852.992493  755.642517  1.696000e+12  5.90  3570.0   \n",
       "2      166.320007  14.0  852.992493  755.642517  1.696000e+12  5.90  3570.0   \n",
       "3      166.880005  14.0  852.992493  755.642517  1.696000e+12  5.90  3570.0   \n",
       "4      167.440002  14.0  852.992493  755.642517  1.696000e+12  5.90  3570.0   \n",
       "...           ...   ...         ...         ...           ...   ...     ...   \n",
       "15620  165.199997  14.0  864.558472  765.888489  1.696000e+12  5.98  3570.0   \n",
       "15621  165.759995  14.0  864.558472  765.888489  1.696000e+12  5.98  3570.0   \n",
       "15622  166.320007  14.0  864.558472  765.888489  1.696000e+12  5.98  3570.0   \n",
       "15623  166.880005  14.0  864.558472  765.888489  1.696000e+12  5.98  3570.0   \n",
       "15624  167.440002  14.0  864.558472  765.888489  1.696000e+12  5.98  3570.0   \n",
       "\n",
       "           Hrec       U     A       Ea         R   Vj  RhoCpj         Ffj  \n",
       "0     -264615.0  1100.0  40.0  75500.0  8.314462  3.5  3700.0  165.199997  \n",
       "1     -264615.0  1100.0  40.0  75500.0  8.314462  3.5  3700.0  165.199997  \n",
       "2     -264615.0  1100.0  40.0  75500.0  8.314462  3.5  3700.0  165.199997  \n",
       "3     -264615.0  1100.0  40.0  75500.0  8.314462  3.5  3700.0  165.199997  \n",
       "4     -264615.0  1100.0  40.0  75500.0  8.314462  3.5  3700.0  165.199997  \n",
       "...         ...     ...   ...      ...       ...  ...     ...         ...  \n",
       "15620 -268203.0  1100.0  40.0  75500.0  8.314462  3.5  3700.0  167.440002  \n",
       "15621 -268203.0  1100.0  40.0  75500.0  8.314462  3.5  3700.0  167.440002  \n",
       "15622 -268203.0  1100.0  40.0  75500.0  8.314462  3.5  3700.0  167.440002  \n",
       "15623 -268203.0  1100.0  40.0  75500.0  8.314462  3.5  3700.0  167.440002  \n",
       "15624 -268203.0  1100.0  40.0  75500.0  8.314462  3.5  3700.0  167.440002  \n",
       "\n",
       "[15625 rows x 15 columns]>"
      ]
     },
     "execution_count": 36,
     "metadata": {},
     "output_type": "execute_result"
    }
   ],
   "source": [
    "FullFac.info"
   ]
  },
  {
   "cell_type": "code",
   "execution_count": 4,
   "metadata": {},
   "outputs": [
    {
     "name": "stdout",
     "output_type": "stream",
     "text": [
      "2428.0238542556763\n"
     ]
    }
   ],
   "source": [
    "inicio = time.time()\n",
    "k = 0\n",
    "#ESCRITA DA HEADLINE SEGUIDA DE LEITURA DO INPUT\n",
    "with open(r'c:\\Users\\jvabd\\Desktop\\Projeto final\\Banco de dados\\OutPut_Reduzido_Final.csv', 'a', newline='') as outfile:\n",
    "    w = csv.writer(outfile, delimiter=';')  \n",
    "    w.writerow(['K','Tempo', 'Conc', 'T_Reator', 'T_Jaqueta','Ff','V','Te','Tej','k0','Ca0','RhoCp'\n",
    "                ,'Hrec','U','A','Ea','R','Vj','RhoCpj','Ffj','Qm','Qr','Semenov','T_Limite'])\n",
    "CSV = pd.read_csv(r'c:\\Users\\jvabd\\Desktop\\Projeto final\\Banco de dados\\InputReduzidoFinal.csv', sep=';', header=0)\n",
    "\n",
    "\n",
    "#CICLOS DE ESCRITA DE CADA RODADA\n",
    "for v in range(0,46656):\n",
    "    par = np.array([CSV['Ff'][v],CSV['V'][v],CSV['Te'][v],CSV['Tej'][v],CSV['k0'][v],CSV['Ca0'][v],CSV['RhoCp'][v]\n",
    "                    ,CSV['Hrec'][v],CSV['U'][v],CSV['A'][v],CSV['Ea'][v],CSV['R'][v],CSV['Vj'][v],\n",
    "                    CSV['RhoCpj'][v],CSV['Ffj'][v]], dtype = float)\n",
    "    t, y, yp = dasslc.solve(modelo,t0,y0,yp0,par,rtol,atol) \n",
    "               \n",
    "    # CONTADOR DE RODADA\n",
    "    k = k + 1\n",
    "     \n",
    "    # CRITÉRIO DE SEMENOV \n",
    "    T = np.array(y.T[1])\n",
    "    Tj = np.array(y.T[2])\n",
    "    Ca = np.array(y.T[0])\n",
    "\n",
    "    Qr = -(CSV['Te'][v] - T)*(Ff/V) - (U*A/(V*RhoCpj))*(Tj - T)\n",
    "    Qm =  - (k0*(Ca)/RhoCp)*np.exp(-Ea/(R*T))*Hrec\n",
    "        \n",
    "    for u in range(0,100):\n",
    "        if Qm[u] > Qr[u] and T[u] > (273 + 200):\n",
    "            Semenov = 1\n",
    "            break\n",
    "        else:\n",
    "            Semenov = 0\n",
    "            \n",
    "    # TEMPERATURA LIMITE        \n",
    "    for h in range(0,100):\n",
    "        if T[h] > (500):\n",
    "            T_Limite = 1\n",
    "            break\n",
    "        else:\n",
    "            T_Limite = 0\n",
    "\n",
    "            \n",
    "    # PARA PRINTAR OS RESULTADOS EM CSV        \n",
    "    with open(r'c:\\Users\\jvabd\\Desktop\\Projeto final\\Banco de dados\\OutPut_Reduzido_Final.csv', 'a', newline='') as outfile:\n",
    "        w = csv.writer(outfile, delimiter=';')            \n",
    "        for i in range(0,100): \n",
    "            w.writerow([k,t[i]*60,y[i][0],y[i][1],y[i][2],CSV['Ff'][v],V,CSV['Te'][v],CSV['Tej'][v],\n",
    "                        k0,CSV['Ca0'][v],RhoCp,\n",
    "                        CSV['Hrec'][v],U,A,Ea,R,Vj,RhoCpj,CSV['Ffj'][v],Qm[i],Qr[i],Semenov,T_Limite])\n",
    "fim = time.time()\n",
    "print(fim - inicio)"
   ]
  },
  {
   "cell_type": "code",
   "execution_count": null,
   "metadata": {},
   "outputs": [],
   "source": [
    "y"
   ]
  },
  {
   "cell_type": "code",
   "execution_count": 27,
   "metadata": {},
   "outputs": [
    {
     "data": {
      "text/html": [
       "<div>\n",
       "<style scoped>\n",
       "    .dataframe tbody tr th:only-of-type {\n",
       "        vertical-align: middle;\n",
       "    }\n",
       "\n",
       "    .dataframe tbody tr th {\n",
       "        vertical-align: top;\n",
       "    }\n",
       "\n",
       "    .dataframe thead th {\n",
       "        text-align: right;\n",
       "    }\n",
       "</style>\n",
       "<table border=\"1\" class=\"dataframe\">\n",
       "  <thead>\n",
       "    <tr style=\"text-align: right;\">\n",
       "      <th></th>\n",
       "      <th>'Tempo'</th>\n",
       "      <th>'Conc'</th>\n",
       "      <th>'T_Reator'</th>\n",
       "      <th>'T_Jaqueta'</th>\n",
       "      <th>'Ff'</th>\n",
       "      <th>'V'</th>\n",
       "      <th>'Te'</th>\n",
       "      <th>'Tej'</th>\n",
       "      <th>'k0'</th>\n",
       "      <th>'Ca0'</th>\n",
       "      <th>'RhoCp'</th>\n",
       "      <th>'Hrec'</th>\n",
       "      <th>'U'</th>\n",
       "      <th>'A'</th>\n",
       "      <th>'Ea'</th>\n",
       "      <th>'R'</th>\n",
       "      <th>'Vj'</th>\n",
       "      <th>'RhoCpj'</th>\n",
       "      <th>'Ffj'</th>\n",
       "      <th>'Semenov'</th>\n",
       "    </tr>\n",
       "  </thead>\n",
       "  <tbody>\n",
       "    <tr>\n",
       "      <th>0</th>\n",
       "      <td>0.000000</td>\n",
       "      <td>2.000000e+00</td>\n",
       "      <td>311.150000</td>\n",
       "      <td>255.000000</td>\n",
       "      <td>56.0</td>\n",
       "      <td>14</td>\n",
       "      <td>289.15</td>\n",
       "      <td>256.15</td>\n",
       "      <td>1.696000e+12</td>\n",
       "      <td>2</td>\n",
       "      <td>3570</td>\n",
       "      <td>-89700</td>\n",
       "      <td>1100</td>\n",
       "      <td>40</td>\n",
       "      <td>75500</td>\n",
       "      <td>8.314462</td>\n",
       "      <td>3.5</td>\n",
       "      <td>3700</td>\n",
       "      <td>2.032484</td>\n",
       "      <td>0</td>\n",
       "    </tr>\n",
       "    <tr>\n",
       "      <th>1</th>\n",
       "      <td>0.606061</td>\n",
       "      <td>1.978945e+00</td>\n",
       "      <td>307.967071</td>\n",
       "      <td>249.673170</td>\n",
       "      <td>56.0</td>\n",
       "      <td>14</td>\n",
       "      <td>289.15</td>\n",
       "      <td>256.15</td>\n",
       "      <td>1.696000e+12</td>\n",
       "      <td>2</td>\n",
       "      <td>3570</td>\n",
       "      <td>-89700</td>\n",
       "      <td>1100</td>\n",
       "      <td>40</td>\n",
       "      <td>75500</td>\n",
       "      <td>8.314462</td>\n",
       "      <td>3.5</td>\n",
       "      <td>3700</td>\n",
       "      <td>2.032484</td>\n",
       "      <td>0</td>\n",
       "    </tr>\n",
       "    <tr>\n",
       "      <th>2</th>\n",
       "      <td>1.212121</td>\n",
       "      <td>1.960164e+00</td>\n",
       "      <td>304.832725</td>\n",
       "      <td>245.013208</td>\n",
       "      <td>56.0</td>\n",
       "      <td>14</td>\n",
       "      <td>289.15</td>\n",
       "      <td>256.15</td>\n",
       "      <td>1.696000e+12</td>\n",
       "      <td>2</td>\n",
       "      <td>3570</td>\n",
       "      <td>-89700</td>\n",
       "      <td>1100</td>\n",
       "      <td>40</td>\n",
       "      <td>75500</td>\n",
       "      <td>8.314462</td>\n",
       "      <td>3.5</td>\n",
       "      <td>3700</td>\n",
       "      <td>2.032484</td>\n",
       "      <td>0</td>\n",
       "    </tr>\n",
       "    <tr>\n",
       "      <th>3</th>\n",
       "      <td>1.818182</td>\n",
       "      <td>1.943147e+00</td>\n",
       "      <td>301.758597</td>\n",
       "      <td>240.925802</td>\n",
       "      <td>56.0</td>\n",
       "      <td>14</td>\n",
       "      <td>289.15</td>\n",
       "      <td>256.15</td>\n",
       "      <td>1.696000e+12</td>\n",
       "      <td>2</td>\n",
       "      <td>3570</td>\n",
       "      <td>-89700</td>\n",
       "      <td>1100</td>\n",
       "      <td>40</td>\n",
       "      <td>75500</td>\n",
       "      <td>8.314462</td>\n",
       "      <td>3.5</td>\n",
       "      <td>3700</td>\n",
       "      <td>2.032484</td>\n",
       "      <td>0</td>\n",
       "    </tr>\n",
       "    <tr>\n",
       "      <th>4</th>\n",
       "      <td>2.424242</td>\n",
       "      <td>1.927517e+00</td>\n",
       "      <td>298.752966</td>\n",
       "      <td>237.330538</td>\n",
       "      <td>56.0</td>\n",
       "      <td>14</td>\n",
       "      <td>289.15</td>\n",
       "      <td>256.15</td>\n",
       "      <td>1.696000e+12</td>\n",
       "      <td>2</td>\n",
       "      <td>3570</td>\n",
       "      <td>-89700</td>\n",
       "      <td>1100</td>\n",
       "      <td>40</td>\n",
       "      <td>75500</td>\n",
       "      <td>8.314462</td>\n",
       "      <td>3.5</td>\n",
       "      <td>3700</td>\n",
       "      <td>2.032484</td>\n",
       "      <td>0</td>\n",
       "    </tr>\n",
       "    <tr>\n",
       "      <th>...</th>\n",
       "      <td>...</td>\n",
       "      <td>...</td>\n",
       "      <td>...</td>\n",
       "      <td>...</td>\n",
       "      <td>...</td>\n",
       "      <td>...</td>\n",
       "      <td>...</td>\n",
       "      <td>...</td>\n",
       "      <td>...</td>\n",
       "      <td>...</td>\n",
       "      <td>...</td>\n",
       "      <td>...</td>\n",
       "      <td>...</td>\n",
       "      <td>...</td>\n",
       "      <td>...</td>\n",
       "      <td>...</td>\n",
       "      <td>...</td>\n",
       "      <td>...</td>\n",
       "      <td>...</td>\n",
       "      <td>...</td>\n",
       "    </tr>\n",
       "    <tr>\n",
       "      <th>4665595</th>\n",
       "      <td>57.575758</td>\n",
       "      <td>3.640340e-08</td>\n",
       "      <td>1361.514310</td>\n",
       "      <td>837.214724</td>\n",
       "      <td>56.0</td>\n",
       "      <td>14</td>\n",
       "      <td>289.15</td>\n",
       "      <td>256.15</td>\n",
       "      <td>1.696000e+12</td>\n",
       "      <td>2</td>\n",
       "      <td>3570</td>\n",
       "      <td>-89700</td>\n",
       "      <td>1100</td>\n",
       "      <td>40</td>\n",
       "      <td>75500</td>\n",
       "      <td>8.314462</td>\n",
       "      <td>3.5</td>\n",
       "      <td>3700</td>\n",
       "      <td>2.032484</td>\n",
       "      <td>0</td>\n",
       "    </tr>\n",
       "    <tr>\n",
       "      <th>4665596</th>\n",
       "      <td>58.181818</td>\n",
       "      <td>3.640333e-08</td>\n",
       "      <td>1361.514636</td>\n",
       "      <td>837.214751</td>\n",
       "      <td>56.0</td>\n",
       "      <td>14</td>\n",
       "      <td>289.15</td>\n",
       "      <td>256.15</td>\n",
       "      <td>1.696000e+12</td>\n",
       "      <td>2</td>\n",
       "      <td>3570</td>\n",
       "      <td>-89700</td>\n",
       "      <td>1100</td>\n",
       "      <td>40</td>\n",
       "      <td>75500</td>\n",
       "      <td>8.314462</td>\n",
       "      <td>3.5</td>\n",
       "      <td>3700</td>\n",
       "      <td>2.032484</td>\n",
       "      <td>0</td>\n",
       "    </tr>\n",
       "    <tr>\n",
       "      <th>4665597</th>\n",
       "      <td>58.787879</td>\n",
       "      <td>3.640328e-08</td>\n",
       "      <td>1361.514921</td>\n",
       "      <td>837.214775</td>\n",
       "      <td>56.0</td>\n",
       "      <td>14</td>\n",
       "      <td>289.15</td>\n",
       "      <td>256.15</td>\n",
       "      <td>1.696000e+12</td>\n",
       "      <td>2</td>\n",
       "      <td>3570</td>\n",
       "      <td>-89700</td>\n",
       "      <td>1100</td>\n",
       "      <td>40</td>\n",
       "      <td>75500</td>\n",
       "      <td>8.314462</td>\n",
       "      <td>3.5</td>\n",
       "      <td>3700</td>\n",
       "      <td>2.032484</td>\n",
       "      <td>0</td>\n",
       "    </tr>\n",
       "    <tr>\n",
       "      <th>4665598</th>\n",
       "      <td>59.393939</td>\n",
       "      <td>3.640324e-08</td>\n",
       "      <td>1361.515171</td>\n",
       "      <td>837.214796</td>\n",
       "      <td>56.0</td>\n",
       "      <td>14</td>\n",
       "      <td>289.15</td>\n",
       "      <td>256.15</td>\n",
       "      <td>1.696000e+12</td>\n",
       "      <td>2</td>\n",
       "      <td>3570</td>\n",
       "      <td>-89700</td>\n",
       "      <td>1100</td>\n",
       "      <td>40</td>\n",
       "      <td>75500</td>\n",
       "      <td>8.314462</td>\n",
       "      <td>3.5</td>\n",
       "      <td>3700</td>\n",
       "      <td>2.032484</td>\n",
       "      <td>0</td>\n",
       "    </tr>\n",
       "    <tr>\n",
       "      <th>4665599</th>\n",
       "      <td>60.000000</td>\n",
       "      <td>3.640321e-08</td>\n",
       "      <td>1361.515389</td>\n",
       "      <td>837.214815</td>\n",
       "      <td>56.0</td>\n",
       "      <td>14</td>\n",
       "      <td>289.15</td>\n",
       "      <td>256.15</td>\n",
       "      <td>1.696000e+12</td>\n",
       "      <td>2</td>\n",
       "      <td>3570</td>\n",
       "      <td>-89700</td>\n",
       "      <td>1100</td>\n",
       "      <td>40</td>\n",
       "      <td>75500</td>\n",
       "      <td>8.314462</td>\n",
       "      <td>3.5</td>\n",
       "      <td>3700</td>\n",
       "      <td>2.032484</td>\n",
       "      <td>0</td>\n",
       "    </tr>\n",
       "  </tbody>\n",
       "</table>\n",
       "<p>4665600 rows × 20 columns</p>\n",
       "</div>"
      ],
      "text/plain": [
       "           'Tempo'        'Conc'   'T_Reator'  'T_Jaqueta'  'Ff'  'V'    'Te'  \\\n",
       "0         0.000000  2.000000e+00   311.150000   255.000000  56.0   14  289.15   \n",
       "1         0.606061  1.978945e+00   307.967071   249.673170  56.0   14  289.15   \n",
       "2         1.212121  1.960164e+00   304.832725   245.013208  56.0   14  289.15   \n",
       "3         1.818182  1.943147e+00   301.758597   240.925802  56.0   14  289.15   \n",
       "4         2.424242  1.927517e+00   298.752966   237.330538  56.0   14  289.15   \n",
       "...            ...           ...          ...          ...   ...  ...     ...   \n",
       "4665595  57.575758  3.640340e-08  1361.514310   837.214724  56.0   14  289.15   \n",
       "4665596  58.181818  3.640333e-08  1361.514636   837.214751  56.0   14  289.15   \n",
       "4665597  58.787879  3.640328e-08  1361.514921   837.214775  56.0   14  289.15   \n",
       "4665598  59.393939  3.640324e-08  1361.515171   837.214796  56.0   14  289.15   \n",
       "4665599  60.000000  3.640321e-08  1361.515389   837.214815  56.0   14  289.15   \n",
       "\n",
       "          'Tej'          'k0'  'Ca0'  'RhoCp'  'Hrec'   'U'  'A'   'Ea'  \\\n",
       "0        256.15  1.696000e+12      2     3570  -89700  1100   40  75500   \n",
       "1        256.15  1.696000e+12      2     3570  -89700  1100   40  75500   \n",
       "2        256.15  1.696000e+12      2     3570  -89700  1100   40  75500   \n",
       "3        256.15  1.696000e+12      2     3570  -89700  1100   40  75500   \n",
       "4        256.15  1.696000e+12      2     3570  -89700  1100   40  75500   \n",
       "...         ...           ...    ...      ...     ...   ...  ...    ...   \n",
       "4665595  256.15  1.696000e+12      2     3570  -89700  1100   40  75500   \n",
       "4665596  256.15  1.696000e+12      2     3570  -89700  1100   40  75500   \n",
       "4665597  256.15  1.696000e+12      2     3570  -89700  1100   40  75500   \n",
       "4665598  256.15  1.696000e+12      2     3570  -89700  1100   40  75500   \n",
       "4665599  256.15  1.696000e+12      2     3570  -89700  1100   40  75500   \n",
       "\n",
       "              'R'  'Vj'  'RhoCpj'     'Ffj'  'Semenov'  \n",
       "0        8.314462   3.5      3700  2.032484          0  \n",
       "1        8.314462   3.5      3700  2.032484          0  \n",
       "2        8.314462   3.5      3700  2.032484          0  \n",
       "3        8.314462   3.5      3700  2.032484          0  \n",
       "4        8.314462   3.5      3700  2.032484          0  \n",
       "...           ...   ...       ...       ...        ...  \n",
       "4665595  8.314462   3.5      3700  2.032484          0  \n",
       "4665596  8.314462   3.5      3700  2.032484          0  \n",
       "4665597  8.314462   3.5      3700  2.032484          0  \n",
       "4665598  8.314462   3.5      3700  2.032484          0  \n",
       "4665599  8.314462   3.5      3700  2.032484          0  \n",
       "\n",
       "[4665600 rows x 20 columns]"
      ]
     },
     "execution_count": 27,
     "metadata": {},
     "output_type": "execute_result"
    }
   ],
   "source": [
    "CSV"
   ]
  },
  {
   "cell_type": "code",
   "execution_count": 10,
   "metadata": {
    "scrolled": false
   },
   "outputs": [
    {
     "data": {
      "text/plain": [
       "51.022317723433176"
      ]
     },
     "execution_count": 10,
     "metadata": {},
     "output_type": "execute_result"
    }
   ],
   "source": [
    "(fim-inicio)/60"
   ]
  },
  {
   "cell_type": "code",
   "execution_count": 6,
   "metadata": {},
   "outputs": [
    {
     "data": {
      "text/plain": [
       "0.999999999999998"
      ]
     },
     "execution_count": 6,
     "metadata": {},
     "output_type": "execute_result"
    }
   ],
   "source": [
    "t[99]"
   ]
  },
  {
   "cell_type": "code",
   "execution_count": 5,
   "metadata": {},
   "outputs": [
    {
     "name": "stdout",
     "output_type": "stream",
     "text": [
      "<class 'pandas.core.frame.DataFrame'>\n",
      "RangeIndex: 4665600 entries, 0 to 4665599\n",
      "Data columns (total 24 columns):\n",
      " #   Column     Dtype  \n",
      "---  ------     -----  \n",
      " 0   K          int64  \n",
      " 1   Tempo      float64\n",
      " 2   Conc       float64\n",
      " 3   T_Reator   float64\n",
      " 4   T_Jaqueta  float64\n",
      " 5   Ff         float64\n",
      " 6   V          int64  \n",
      " 7   Te         float64\n",
      " 8   Tej        float64\n",
      " 9   k0         float64\n",
      " 10  Ca0        int64  \n",
      " 11  RhoCp      int64  \n",
      " 12  Hrec       int64  \n",
      " 13  U          int64  \n",
      " 14  A          int64  \n",
      " 15  Ea         int64  \n",
      " 16  R          float64\n",
      " 17  Vj         float64\n",
      " 18  RhoCpj     int64  \n",
      " 19  Ffj        float64\n",
      " 20  Qm         float64\n",
      " 21  Qr         float64\n",
      " 22  Semenov    int64  \n",
      " 23  T_Limite   int64  \n",
      "dtypes: float64(13), int64(11)\n",
      "memory usage: 854.3 MB\n"
     ]
    }
   ],
   "source": [
    "CSV = pd.read_csv(r'c:\\Users\\jvabd\\Desktop\\Projeto final\\Banco de dados\\OutPut5Corr.csv', sep=';', header='infer') \n",
    "CSV.info()"
   ]
  },
  {
   "cell_type": "code",
   "execution_count": 38,
   "metadata": {},
   "outputs": [
    {
     "data": {
      "text/plain": [
       "<bound method NDFrame.head of              Tempo          Conc     T_Reator   T_Jaqueta    Ff   V      Te  \\\n",
       "0         0.000000  2.000000e+00   311.150000  255.000000  56.0  14  289.15   \n",
       "1         0.606061  1.978945e+00   307.967071  249.673170  56.0  14  289.15   \n",
       "2         1.212121  1.960164e+00   304.832725  245.013208  56.0  14  289.15   \n",
       "3         1.818182  1.943147e+00   301.758597  240.925802  56.0  14  289.15   \n",
       "4         2.424242  1.927517e+00   298.752966  237.330538  56.0  14  289.15   \n",
       "...            ...           ...          ...         ...   ...  ..     ...   \n",
       "4665595  57.575758  3.640340e-08  1361.514310  837.214724  56.0  14  289.15   \n",
       "4665596  58.181818  3.640333e-08  1361.514636  837.214751  56.0  14  289.15   \n",
       "4665597  58.787879  3.640328e-08  1361.514921  837.214775  56.0  14  289.15   \n",
       "4665598  59.393939  3.640324e-08  1361.515171  837.214796  56.0  14  289.15   \n",
       "4665599  60.000000  3.640321e-08  1361.515389  837.214815  56.0  14  289.15   \n",
       "\n",
       "            Tej            k0  Ca0  RhoCp   Hrec     U   A     Ea         R  \\\n",
       "0        256.15  1.696000e+12    2   3570 -89700  1100  40  75500  8.314462   \n",
       "1        256.15  1.696000e+12    2   3570 -89700  1100  40  75500  8.314462   \n",
       "2        256.15  1.696000e+12    2   3570 -89700  1100  40  75500  8.314462   \n",
       "3        256.15  1.696000e+12    2   3570 -89700  1100  40  75500  8.314462   \n",
       "4        256.15  1.696000e+12    2   3570 -89700  1100  40  75500  8.314462   \n",
       "...         ...           ...  ...    ...    ...   ...  ..    ...       ...   \n",
       "4665595  256.15  1.696000e+12    2   3570 -89700  1100  40  75500  8.314462   \n",
       "4665596  256.15  1.696000e+12    2   3570 -89700  1100  40  75500  8.314462   \n",
       "4665597  256.15  1.696000e+12    2   3570 -89700  1100  40  75500  8.314462   \n",
       "4665598  256.15  1.696000e+12    2   3570 -89700  1100  40  75500  8.314462   \n",
       "4665599  256.15  1.696000e+12    2   3570 -89700  1100  40  75500  8.314462   \n",
       "\n",
       "          Vj  RhoCpj       Ffj  Semenov  \n",
       "0        3.5    3700  2.032484        0  \n",
       "1        3.5    3700  2.032484        0  \n",
       "2        3.5    3700  2.032484        0  \n",
       "3        3.5    3700  2.032484        0  \n",
       "4        3.5    3700  2.032484        0  \n",
       "...      ...     ...       ...      ...  \n",
       "4665595  3.5    3700  2.032484        0  \n",
       "4665596  3.5    3700  2.032484        0  \n",
       "4665597  3.5    3700  2.032484        0  \n",
       "4665598  3.5    3700  2.032484        0  \n",
       "4665599  3.5    3700  2.032484        0  \n",
       "\n",
       "[4665600 rows x 20 columns]>"
      ]
     },
     "execution_count": 38,
     "metadata": {},
     "output_type": "execute_result"
    }
   ],
   "source": [
    "CSV.head"
   ]
  },
  {
   "cell_type": "code",
   "execution_count": 18,
   "metadata": {},
   "outputs": [
    {
     "data": {
      "text/html": [
       "<div>\n",
       "<style scoped>\n",
       "    .dataframe tbody tr th:only-of-type {\n",
       "        vertical-align: middle;\n",
       "    }\n",
       "\n",
       "    .dataframe tbody tr th {\n",
       "        vertical-align: top;\n",
       "    }\n",
       "\n",
       "    .dataframe thead th {\n",
       "        text-align: right;\n",
       "    }\n",
       "</style>\n",
       "<table border=\"1\" class=\"dataframe\">\n",
       "  <thead>\n",
       "    <tr style=\"text-align: right;\">\n",
       "      <th></th>\n",
       "      <th>Tempo</th>\n",
       "      <th>Conc</th>\n",
       "      <th>T_Reator</th>\n",
       "      <th>T_Jaqueta</th>\n",
       "      <th>Ff</th>\n",
       "      <th>V</th>\n",
       "      <th>Te</th>\n",
       "      <th>Tej</th>\n",
       "      <th>k0</th>\n",
       "      <th>Ca0</th>\n",
       "      <th>...</th>\n",
       "      <th>U</th>\n",
       "      <th>A</th>\n",
       "      <th>Ea</th>\n",
       "      <th>R</th>\n",
       "      <th>Vj</th>\n",
       "      <th>RhoCpj</th>\n",
       "      <th>Ffj</th>\n",
       "      <th>Qm</th>\n",
       "      <th>Qr</th>\n",
       "      <th>Semenov</th>\n",
       "    </tr>\n",
       "  </thead>\n",
       "  <tbody>\n",
       "    <tr>\n",
       "      <th>0</th>\n",
       "      <td>0.000000</td>\n",
       "      <td>2.000000</td>\n",
       "      <td>311.150000</td>\n",
       "      <td>255.000000</td>\n",
       "      <td>56.0</td>\n",
       "      <td>14</td>\n",
       "      <td>289.15</td>\n",
       "      <td>256.15</td>\n",
       "      <td>1.696000e+12</td>\n",
       "      <td>2</td>\n",
       "      <td>...</td>\n",
       "      <td>1100</td>\n",
       "      <td>40</td>\n",
       "      <td>75500</td>\n",
       "      <td>8.314462</td>\n",
       "      <td>3.5</td>\n",
       "      <td>3700</td>\n",
       "      <td>2.032484</td>\n",
       "      <td>18.037788</td>\n",
       "      <td>135.694981</td>\n",
       "      <td>0</td>\n",
       "    </tr>\n",
       "    <tr>\n",
       "      <th>1</th>\n",
       "      <td>0.606061</td>\n",
       "      <td>1.978296</td>\n",
       "      <td>310.158835</td>\n",
       "      <td>256.878295</td>\n",
       "      <td>56.0</td>\n",
       "      <td>14</td>\n",
       "      <td>289.15</td>\n",
       "      <td>256.15</td>\n",
       "      <td>1.696000e+12</td>\n",
       "      <td>2</td>\n",
       "      <td>...</td>\n",
       "      <td>1100</td>\n",
       "      <td>40</td>\n",
       "      <td>75500</td>\n",
       "      <td>8.314462</td>\n",
       "      <td>3.5</td>\n",
       "      <td>3700</td>\n",
       "      <td>2.032484</td>\n",
       "      <td>16.253297</td>\n",
       "      <td>129.292939</td>\n",
       "      <td>0</td>\n",
       "    </tr>\n",
       "    <tr>\n",
       "      <th>2</th>\n",
       "      <td>1.212121</td>\n",
       "      <td>1.957900</td>\n",
       "      <td>309.208465</td>\n",
       "      <td>258.652581</td>\n",
       "      <td>56.0</td>\n",
       "      <td>14</td>\n",
       "      <td>289.15</td>\n",
       "      <td>256.15</td>\n",
       "      <td>1.696000e+12</td>\n",
       "      <td>2</td>\n",
       "      <td>...</td>\n",
       "      <td>1100</td>\n",
       "      <td>40</td>\n",
       "      <td>75500</td>\n",
       "      <td>8.314462</td>\n",
       "      <td>3.5</td>\n",
       "      <td>3700</td>\n",
       "      <td>2.032484</td>\n",
       "      <td>14.701465</td>\n",
       "      <td>123.177082</td>\n",
       "      <td>0</td>\n",
       "    </tr>\n",
       "    <tr>\n",
       "      <th>3</th>\n",
       "      <td>1.818182</td>\n",
       "      <td>1.938686</td>\n",
       "      <td>308.298080</td>\n",
       "      <td>260.328167</td>\n",
       "      <td>56.0</td>\n",
       "      <td>14</td>\n",
       "      <td>289.15</td>\n",
       "      <td>256.15</td>\n",
       "      <td>1.696000e+12</td>\n",
       "      <td>2</td>\n",
       "      <td>...</td>\n",
       "      <td>1100</td>\n",
       "      <td>40</td>\n",
       "      <td>75500</td>\n",
       "      <td>8.314462</td>\n",
       "      <td>3.5</td>\n",
       "      <td>3700</td>\n",
       "      <td>2.032484</td>\n",
       "      <td>13.347991</td>\n",
       "      <td>117.338962</td>\n",
       "      <td>0</td>\n",
       "    </tr>\n",
       "    <tr>\n",
       "      <th>4</th>\n",
       "      <td>2.424242</td>\n",
       "      <td>1.920547</td>\n",
       "      <td>307.426707</td>\n",
       "      <td>261.910131</td>\n",
       "      <td>56.0</td>\n",
       "      <td>14</td>\n",
       "      <td>289.15</td>\n",
       "      <td>256.15</td>\n",
       "      <td>1.696000e+12</td>\n",
       "      <td>2</td>\n",
       "      <td>...</td>\n",
       "      <td>1100</td>\n",
       "      <td>40</td>\n",
       "      <td>75500</td>\n",
       "      <td>8.314462</td>\n",
       "      <td>3.5</td>\n",
       "      <td>3700</td>\n",
       "      <td>2.032484</td>\n",
       "      <td>12.164007</td>\n",
       "      <td>111.769557</td>\n",
       "      <td>0</td>\n",
       "    </tr>\n",
       "    <tr>\n",
       "      <th>...</th>\n",
       "      <td>...</td>\n",
       "      <td>...</td>\n",
       "      <td>...</td>\n",
       "      <td>...</td>\n",
       "      <td>...</td>\n",
       "      <td>...</td>\n",
       "      <td>...</td>\n",
       "      <td>...</td>\n",
       "      <td>...</td>\n",
       "      <td>...</td>\n",
       "      <td>...</td>\n",
       "      <td>...</td>\n",
       "      <td>...</td>\n",
       "      <td>...</td>\n",
       "      <td>...</td>\n",
       "      <td>...</td>\n",
       "      <td>...</td>\n",
       "      <td>...</td>\n",
       "      <td>...</td>\n",
       "      <td>...</td>\n",
       "      <td>...</td>\n",
       "    </tr>\n",
       "    <tr>\n",
       "      <th>4665595</th>\n",
       "      <td>57.575758</td>\n",
       "      <td>0.000003</td>\n",
       "      <td>826.348368</td>\n",
       "      <td>640.584410</td>\n",
       "      <td>56.0</td>\n",
       "      <td>14</td>\n",
       "      <td>289.15</td>\n",
       "      <td>256.15</td>\n",
       "      <td>1.696000e+12</td>\n",
       "      <td>2</td>\n",
       "      <td>...</td>\n",
       "      <td>1100</td>\n",
       "      <td>40</td>\n",
       "      <td>75500</td>\n",
       "      <td>8.314462</td>\n",
       "      <td>3.5</td>\n",
       "      <td>3700</td>\n",
       "      <td>2.032484</td>\n",
       "      <td>1968.714435</td>\n",
       "      <td>2306.585250</td>\n",
       "      <td>1</td>\n",
       "    </tr>\n",
       "    <tr>\n",
       "      <th>4665596</th>\n",
       "      <td>58.181818</td>\n",
       "      <td>0.000003</td>\n",
       "      <td>826.373689</td>\n",
       "      <td>640.836846</td>\n",
       "      <td>56.0</td>\n",
       "      <td>14</td>\n",
       "      <td>289.15</td>\n",
       "      <td>256.15</td>\n",
       "      <td>1.696000e+12</td>\n",
       "      <td>2</td>\n",
       "      <td>...</td>\n",
       "      <td>1100</td>\n",
       "      <td>40</td>\n",
       "      <td>75500</td>\n",
       "      <td>8.314462</td>\n",
       "      <td>3.5</td>\n",
       "      <td>3700</td>\n",
       "      <td>2.032484</td>\n",
       "      <td>1968.714442</td>\n",
       "      <td>2306.493621</td>\n",
       "      <td>1</td>\n",
       "    </tr>\n",
       "    <tr>\n",
       "      <th>4665597</th>\n",
       "      <td>58.787879</td>\n",
       "      <td>0.000003</td>\n",
       "      <td>826.397789</td>\n",
       "      <td>641.077153</td>\n",
       "      <td>56.0</td>\n",
       "      <td>14</td>\n",
       "      <td>289.15</td>\n",
       "      <td>256.15</td>\n",
       "      <td>1.696000e+12</td>\n",
       "      <td>2</td>\n",
       "      <td>...</td>\n",
       "      <td>1100</td>\n",
       "      <td>40</td>\n",
       "      <td>75500</td>\n",
       "      <td>8.314462</td>\n",
       "      <td>3.5</td>\n",
       "      <td>3700</td>\n",
       "      <td>2.032484</td>\n",
       "      <td>1968.714452</td>\n",
       "      <td>2306.406366</td>\n",
       "      <td>1</td>\n",
       "    </tr>\n",
       "    <tr>\n",
       "      <th>4665598</th>\n",
       "      <td>59.393939</td>\n",
       "      <td>0.000003</td>\n",
       "      <td>826.420725</td>\n",
       "      <td>641.305916</td>\n",
       "      <td>56.0</td>\n",
       "      <td>14</td>\n",
       "      <td>289.15</td>\n",
       "      <td>256.15</td>\n",
       "      <td>1.696000e+12</td>\n",
       "      <td>2</td>\n",
       "      <td>...</td>\n",
       "      <td>1100</td>\n",
       "      <td>40</td>\n",
       "      <td>75500</td>\n",
       "      <td>8.314462</td>\n",
       "      <td>3.5</td>\n",
       "      <td>3700</td>\n",
       "      <td>2.032484</td>\n",
       "      <td>1968.714456</td>\n",
       "      <td>2306.323278</td>\n",
       "      <td>1</td>\n",
       "    </tr>\n",
       "    <tr>\n",
       "      <th>4665599</th>\n",
       "      <td>60.000000</td>\n",
       "      <td>0.000003</td>\n",
       "      <td>826.442555</td>\n",
       "      <td>641.523688</td>\n",
       "      <td>56.0</td>\n",
       "      <td>14</td>\n",
       "      <td>289.15</td>\n",
       "      <td>256.15</td>\n",
       "      <td>1.696000e+12</td>\n",
       "      <td>2</td>\n",
       "      <td>...</td>\n",
       "      <td>1100</td>\n",
       "      <td>40</td>\n",
       "      <td>75500</td>\n",
       "      <td>8.314462</td>\n",
       "      <td>3.5</td>\n",
       "      <td>3700</td>\n",
       "      <td>2.032484</td>\n",
       "      <td>1968.714455</td>\n",
       "      <td>2306.244160</td>\n",
       "      <td>1</td>\n",
       "    </tr>\n",
       "  </tbody>\n",
       "</table>\n",
       "<p>4665600 rows x 22 columns</p>\n",
       "</div>"
      ],
      "text/plain": [
       "             Tempo      Conc    T_Reator   T_Jaqueta    Ff   V      Te  \\\n",
       "0         0.000000  2.000000  311.150000  255.000000  56.0  14  289.15   \n",
       "1         0.606061  1.978296  310.158835  256.878295  56.0  14  289.15   \n",
       "2         1.212121  1.957900  309.208465  258.652581  56.0  14  289.15   \n",
       "3         1.818182  1.938686  308.298080  260.328167  56.0  14  289.15   \n",
       "4         2.424242  1.920547  307.426707  261.910131  56.0  14  289.15   \n",
       "...            ...       ...         ...         ...   ...  ..     ...   \n",
       "4665595  57.575758  0.000003  826.348368  640.584410  56.0  14  289.15   \n",
       "4665596  58.181818  0.000003  826.373689  640.836846  56.0  14  289.15   \n",
       "4665597  58.787879  0.000003  826.397789  641.077153  56.0  14  289.15   \n",
       "4665598  59.393939  0.000003  826.420725  641.305916  56.0  14  289.15   \n",
       "4665599  60.000000  0.000003  826.442555  641.523688  56.0  14  289.15   \n",
       "\n",
       "            Tej            k0  Ca0  ...     U   A     Ea         R   Vj  \\\n",
       "0        256.15  1.696000e+12    2  ...  1100  40  75500  8.314462  3.5   \n",
       "1        256.15  1.696000e+12    2  ...  1100  40  75500  8.314462  3.5   \n",
       "2        256.15  1.696000e+12    2  ...  1100  40  75500  8.314462  3.5   \n",
       "3        256.15  1.696000e+12    2  ...  1100  40  75500  8.314462  3.5   \n",
       "4        256.15  1.696000e+12    2  ...  1100  40  75500  8.314462  3.5   \n",
       "...         ...           ...  ...  ...   ...  ..    ...       ...  ...   \n",
       "4665595  256.15  1.696000e+12    2  ...  1100  40  75500  8.314462  3.5   \n",
       "4665596  256.15  1.696000e+12    2  ...  1100  40  75500  8.314462  3.5   \n",
       "4665597  256.15  1.696000e+12    2  ...  1100  40  75500  8.314462  3.5   \n",
       "4665598  256.15  1.696000e+12    2  ...  1100  40  75500  8.314462  3.5   \n",
       "4665599  256.15  1.696000e+12    2  ...  1100  40  75500  8.314462  3.5   \n",
       "\n",
       "         RhoCpj       Ffj           Qm           Qr  Semenov  \n",
       "0          3700  2.032484    18.037788   135.694981        0  \n",
       "1          3700  2.032484    16.253297   129.292939        0  \n",
       "2          3700  2.032484    14.701465   123.177082        0  \n",
       "3          3700  2.032484    13.347991   117.338962        0  \n",
       "4          3700  2.032484    12.164007   111.769557        0  \n",
       "...         ...       ...          ...          ...      ...  \n",
       "4665595    3700  2.032484  1968.714435  2306.585250        1  \n",
       "4665596    3700  2.032484  1968.714442  2306.493621        1  \n",
       "4665597    3700  2.032484  1968.714452  2306.406366        1  \n",
       "4665598    3700  2.032484  1968.714456  2306.323278        1  \n",
       "4665599    3700  2.032484  1968.714455  2306.244160        1  \n",
       "\n",
       "[4665600 rows x 22 columns]"
      ]
     },
     "execution_count": 18,
     "metadata": {},
     "output_type": "execute_result"
    }
   ],
   "source": [
    "CSV"
   ]
  },
  {
   "cell_type": "code",
   "execution_count": 11,
   "metadata": {},
   "outputs": [
    {
     "data": {
      "text/plain": [
       "833.3871016790554"
      ]
     },
     "execution_count": 11,
     "metadata": {},
     "output_type": "execute_result"
    }
   ],
   "source": [
    "CSV['T_Reator'].max()"
   ]
  },
  {
   "cell_type": "code",
   "execution_count": 9,
   "metadata": {},
   "outputs": [
    {
     "data": {
      "text/plain": [
       "<matplotlib.axes._subplots.AxesSubplot at 0x17e15a816d0>"
      ]
     },
     "execution_count": 9,
     "metadata": {},
     "output_type": "execute_result"
    },
    {
     "data": {
      "image/png": "[encoded data removed]",
      "text/plain": [
       "<Figure size 432x288 with 1 Axes>"
      ]
     },
     "metadata": {
      "needs_background": "light"
     },
     "output_type": "display_data"
    }
   ],
   "source": [
    "CSV['T_Limite'].hist(bins=50)"
   ]
  },
  {
   "cell_type": "code",
   "execution_count": 7,
   "metadata": {},
   "outputs": [
    {
     "data": {
      "text/plain": [
       "<matplotlib.axes._subplots.AxesSubplot at 0x1d4000043a0>"
      ]
     },
     "execution_count": 7,
     "metadata": {},
     "output_type": "execute_result"
    },
    {
     "data": {
      "image/png": "[encoded data removed]",
      "text/plain": [
       "<Figure size 432x288 with 1 Axes>"
      ]
     },
     "metadata": {
      "needs_background": "light"
     },
     "output_type": "display_data"
    }
   ],
   "source": [
    "CSV['Semenov'].hist(bins=50)"
   ]
  },
  {
   "cell_type": "code",
   "execution_count": 6,
   "metadata": {},
   "outputs": [
    {
     "data": {
      "text/plain": [
       "<AxesSubplot:>"
      ]
     },
     "execution_count": 6,
     "metadata": {},
     "output_type": "execute_result"
    },
    {
     "data": {
      "image/png": "[encoded data removed]",
      "text/plain": [
       "<Figure size 432x288 with 1 Axes>"
      ]
     },
     "metadata": {
      "needs_background": "light"
     },
     "output_type": "display_data"
    }
   ],
   "source": [
    "CSV['T_Reator'].hist(bins = 10) "
   ]
  },
  {
   "cell_type": "code",
   "execution_count": 22,
   "metadata": {},
   "outputs": [
    {
     "data": {
      "text/plain": [
       "<matplotlib.axes._subplots.AxesSubplot at 0x1d40437fc10>"
      ]
     },
     "execution_count": 22,
     "metadata": {},
     "output_type": "execute_result"
    },
    {
     "data": {
      "image/png": "[encoded data removed]",
      "text/plain": [
       "<Figure size 432x288 with 1 Axes>"
      ]
     },
     "metadata": {
      "needs_background": "light"
     },
     "output_type": "display_data"
    }
   ],
   "source": [
    "CSV['Qr'].hist(bins = 20)  # Calor removido"
   ]
  },
  {
   "cell_type": "code",
   "execution_count": 39,
   "metadata": {},
   "outputs": [
    {
     "data": {
      "text/plain": [
       "<matplotlib.axes._subplots.AxesSubplot at 0x1d40527ad90>"
      ]
     },
     "execution_count": 39,
     "metadata": {},
     "output_type": "execute_result"
    },
    {
     "data": {
      "image/png": "[encoded data removed]",
      "text/plain": [
       "<Figure size 432x288 with 1 Axes>"
      ]
     },
     "metadata": {
      "needs_background": "light"
     },
     "output_type": "display_data"
    }
   ],
   "source": [
    "CSV['Qm'].hist(bins = 10, range=(0, 1000)) # Calor gerado"
   ]
  },
  {
   "cell_type": "code",
   "execution_count": 1,
   "metadata": {},
   "outputs": [
    {
     "ename": "ModuleNotFoundError",
     "evalue": "No module named 'av_utils'",
     "output_type": "error",
     "traceback": [
      "\u001b[1;31m---------------------------------------------------------------------------\u001b[0m",
      "\u001b[1;31mModuleNotFoundError\u001b[0m                       Traceback (most recent call last)",
      "\u001b[1;32m<ipython-input-1-59572249061d>\u001b[0m in \u001b[0;36m<module>\u001b[1;34m\u001b[0m\n\u001b[1;32m----> 1\u001b[1;33m \u001b[1;32mimport\u001b[0m \u001b[0mav_utils\u001b[0m\u001b[1;33m\u001b[0m\u001b[1;33m\u001b[0m\u001b[0m\n\u001b[0m",
      "\u001b[1;31mModuleNotFoundError\u001b[0m: No module named 'av_utils'"
     ]
    }
   ],
   "source": [
    "import av_utils"
   ]
  },
  {
   "cell_type": "code",
   "execution_count": 2,
   "metadata": {},
   "outputs": [],
   "source": [
    "import numpy"
   ]
  },
  {
   "cell_type": "code",
   "execution_count": null,
   "metadata": {},
   "outputs": [],
   "source": []
  }
 ],
 "metadata": {
  "kernelspec": {
   "display_name": "Python 3",
   "language": "python",
   "name": "python3"
  },
  "language_info": {
   "codemirror_mode": {
    "name": "ipython",
    "version": 3
   },
   "file_extension": ".py",
   "mimetype": "text/x-python",
   "name": "python",
   "nbconvert_exporter": "python",
   "pygments_lexer": "ipython3",
   "version": "3.8.8"
  }
 },
 "nbformat": 4,
 "nbformat_minor": 4
}
